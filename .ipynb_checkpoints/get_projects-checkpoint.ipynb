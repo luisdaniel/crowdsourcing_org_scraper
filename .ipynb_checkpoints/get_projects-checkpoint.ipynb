{
 "metadata": {
  "name": "",
  "signature": "sha256:d314dc10887509ad50b594abe8f22387cc12cadbf401fc74d0042302be9565cb"
 },
 "nbformat": 3,
 "nbformat_minor": 0,
 "worksheets": [
  {
   "cells": [
    {
     "cell_type": "code",
     "collapsed": false,
     "input": [
      "import requests\n",
      "import csv\n",
      "url  = \"http://www.crowdsourcing.org/directory/loadsites\""
     ],
     "language": "python",
     "metadata": {},
     "outputs": [],
     "prompt_number": 5
    },
    {
     "cell_type": "code",
     "collapsed": false,
     "input": [
      "csvwriter = csv.writer(open(\"crowdsourcing.csv\", \"w\"))\n",
      "header = ['category_id', 'date_added', 'item_country', 'item_description', 'item_launch_date',\n",
      "          'item_location', 'item_owner', 'item_source', 'item_sub_type', 'item_summary', 'item_title',\n",
      "          'rating', 'success_to_date', 'twitter_id']\n",
      "csvwriter.writerow(header)"
     ],
     "language": "python",
     "metadata": {},
     "outputs": [],
     "prompt_number": 9
    },
    {
     "cell_type": "code",
     "collapsed": false,
     "input": [
      "for i in range(1, 65):\n",
      "    results = requests.get(url, \n",
      "              params={'format': 'json', 'cat_id': 0, \"subcat_id\":0, \"page_id\":i, \"country\":0, \"language\":0, \"abc\":0}, \n",
      "              headers={'X-Requested-With': \"XMLHttpRequest\"})\n",
      "    d = results.json()['items']\n",
      "    for k in d:\n",
      "        new_row = [d[k]['category_id'],\n",
      "                   d[k]['date_added'],\n",
      "                   d[k]['item_country'],\n",
      "                   d[k]['item_description'],\n",
      "                   d[k]['item_launch_date'],\n",
      "                   d[k]['item_location'],\n",
      "                   d[k]['item_owner'],\n",
      "                   d[k]['item_source'],\n",
      "                   d[k]['item_sub_type'],\n",
      "                   d[k]['item_summary'],\n",
      "                   d[k]['item_title'],\n",
      "                   d[k]['rating'],\n",
      "                   d[k]['success_to_date'],\n",
      "                   d[k]['twitter_id']]\n",
      "        for i in range(len(new_row)):  # For every value in our newrow\n",
      "            if hasattr(new_row[i], 'encode'):\n",
      "                new_row[i] = new_row[i].encode('utf8')\n",
      "        csvwriter.writerow(new_row)"
     ],
     "language": "python",
     "metadata": {},
     "outputs": []
    }
   ],
   "metadata": {}
  }
 ]
}